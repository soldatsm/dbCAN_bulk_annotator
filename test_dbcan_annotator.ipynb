{
 "cells": [
  {
   "cell_type": "code",
   "execution_count": 2,
   "metadata": {},
   "outputs": [],
   "source": [
    "import os\n",
    "from multiprocessing import Pool\n",
    "import subprocess\n",
    "from time import sleep"
   ]
  },
  {
   "cell_type": "code",
   "execution_count": 35,
   "metadata": {},
   "outputs": [],
   "source": [
    "path_to_proteomes = '/home/aster/PycharmProjects/dbCAN_annotator/data/mags/'\n",
    "#path_to_proteomes = '/home/aster/haloarch_porject_12_09/results/halobacteria_assemblyes/downloaded_proteomes'"
   ]
  },
  {
   "attachments": {},
   "cell_type": "markdown",
   "metadata": {},
   "source": [
    "### Нужно деление листа на n частей (для Pool)\n",
    "\n",
    "На каждый такой подлист будет идти на свой pool"
   ]
  },
  {
   "cell_type": "code",
   "execution_count": 47,
   "metadata": {},
   "outputs": [],
   "source": [
    "dir_list = os.listdir(path_to_proteomes)\n",
    "\n",
    "n = 5\n",
    "n = len(dir_list) - n\n",
    "\n",
    "dir_list = [f\"{path_to_proteomes}{i.replace('.faa', '')}\" for i in dir_list]\n",
    "nested_list = [dir_list[i:i+n] for i in range(0, len(dir_list), n)]"
   ]
  },
  {
   "cell_type": "code",
   "execution_count": 48,
   "metadata": {},
   "outputs": [
    {
     "data": {
      "text/plain": [
       "['/home/aster/PycharmProjects/dbCAN_annotator/data/mags/3808S.maxbin.001.genes',\n",
       " '/home/aster/PycharmProjects/dbCAN_annotator/data/mags/3811S.9.genes',\n",
       " '/home/aster/PycharmProjects/dbCAN_annotator/data/mags/3808S.metabat.17.genes',\n",
       " '/home/aster/PycharmProjects/dbCAN_annotator/data/mags/3811S.metabat.14_sub.genes',\n",
       " '/home/aster/PycharmProjects/dbCAN_annotator/data/mags/3808Xyl.metabat.28.genes',\n",
       " '/home/aster/PycharmProjects/dbCAN_annotator/data/mags/4229.bin.2.gene',\n",
       " '/home/aster/PycharmProjects/dbCAN_annotator/data/mags/A10-3437.genes',\n",
       " '/home/aster/PycharmProjects/dbCAN_annotator/data/mags/A10-2-3437.genes',\n",
       " '/home/aster/PycharmProjects/dbCAN_annotator/data/mags/3811AMC.46.genes']"
      ]
     },
     "execution_count": 48,
     "metadata": {},
     "output_type": "execute_result"
    }
   ],
   "source": [
    "dir_list"
   ]
  },
  {
   "cell_type": "code",
   "execution_count": 49,
   "metadata": {},
   "outputs": [
    {
     "data": {
      "text/plain": [
       "[['/home/aster/PycharmProjects/dbCAN_annotator/data/mags/3808S.maxbin.001.genes',\n",
       "  '/home/aster/PycharmProjects/dbCAN_annotator/data/mags/3811S.9.genes',\n",
       "  '/home/aster/PycharmProjects/dbCAN_annotator/data/mags/3808S.metabat.17.genes',\n",
       "  '/home/aster/PycharmProjects/dbCAN_annotator/data/mags/3811S.metabat.14_sub.genes'],\n",
       " ['/home/aster/PycharmProjects/dbCAN_annotator/data/mags/3808Xyl.metabat.28.genes',\n",
       "  '/home/aster/PycharmProjects/dbCAN_annotator/data/mags/4229.bin.2.gene',\n",
       "  '/home/aster/PycharmProjects/dbCAN_annotator/data/mags/A10-3437.genes',\n",
       "  '/home/aster/PycharmProjects/dbCAN_annotator/data/mags/A10-2-3437.genes'],\n",
       " ['/home/aster/PycharmProjects/dbCAN_annotator/data/mags/3811AMC.46.genes']]"
      ]
     },
     "execution_count": 49,
     "metadata": {},
     "output_type": "execute_result"
    }
   ],
   "source": [
    "nested_list"
   ]
  },
  {
   "cell_type": "code",
   "execution_count": 46,
   "metadata": {},
   "outputs": [
    {
     "data": {
      "text/plain": [
       "2"
      ]
     },
     "execution_count": 46,
     "metadata": {},
     "output_type": "execute_result"
    }
   ],
   "source": [
    "len(nested_list)"
   ]
  },
  {
   "attachments": {},
   "cell_type": "markdown",
   "metadata": {},
   "source": [
    "### Multiprocess implimentation"
   ]
  },
  {
   "cell_type": "code",
   "execution_count": 9,
   "metadata": {},
   "outputs": [],
   "source": [
    "def annotator(nested: list[list]):\n",
    "    sleep(3)\n",
    "    for i in nested:\n",
    "        \n",
    "        subprocess.run(['./data/scripts/test_scipt.sh', f'{i}'])"
   ]
  },
  {
   "cell_type": "code",
   "execution_count": 10,
   "metadata": {},
   "outputs": [],
   "source": [
    "p = Pool(processes=n)"
   ]
  },
  {
   "cell_type": "code",
   "execution_count": 11,
   "metadata": {},
   "outputs": [
    {
     "name": "stdout",
     "output_type": "stream",
     "text": [
      "Processing /home/aster/PycharmProjects/dbCAN_annotator/data/mags/3808S.maxbin.001.genes\n",
      "Processing /home/aster/PycharmProjects/dbCAN_annotator/data/mags/3811S.9.genes\n",
      "Processing /home/aster/PycharmProjects/dbCAN_annotator/data/mags/3808S.metabat.17.genes\n",
      "Processing /home/aster/PycharmProjects/dbCAN_annotator/data/mags/3811S.metabat.14_sub.genes\n",
      "Processing /home/aster/PycharmProjects/dbCAN_annotator/data/mags/3808Xyl.metabat.28.genes\n",
      "Processing /home/aster/PycharmProjects/dbCAN_annotator/data/mags/4229.bin.2.gene\n",
      "Processing /home/aster/PycharmProjects/dbCAN_annotator/data/mags/A10-3437.genes\n",
      "Processing /home/aster/PycharmProjects/dbCAN_annotator/data/mags/A10-2-3437.genes\n",
      "Processing /home/aster/PycharmProjects/dbCAN_annotator/data/mags/3811AMC.46.genes\n"
     ]
    }
   ],
   "source": [
    "data = p.map(annotator, nested_list)"
   ]
  },
  {
   "cell_type": "code",
   "execution_count": null,
   "metadata": {},
   "outputs": [],
   "source": []
  }
 ],
 "metadata": {
  "kernelspec": {
   "display_name": "bioinf",
   "language": "python",
   "name": "python3"
  },
  "language_info": {
   "codemirror_mode": {
    "name": "ipython",
    "version": 3
   },
   "file_extension": ".py",
   "mimetype": "text/x-python",
   "name": "python",
   "nbconvert_exporter": "python",
   "pygments_lexer": "ipython3",
   "version": "3.10.6"
  },
  "orig_nbformat": 4
 },
 "nbformat": 4,
 "nbformat_minor": 2
}
